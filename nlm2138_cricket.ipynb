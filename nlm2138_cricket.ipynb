{
  "nbformat": 4,
  "nbformat_minor": 0,
  "metadata": {
    "colab": {
      "name": "nlm2138_cricket.ipynb",
      "version": "0.3.2",
      "provenance": [],
      "collapsed_sections": [],
      "toc_visible": true,
      "include_colab_link": true
    },
    "kernelspec": {
      "name": "python2",
      "display_name": "Python 2"
    }
  },
  "cells": [
    {
      "cell_type": "markdown",
      "metadata": {
        "id": "view-in-github",
        "colab_type": "text"
      },
      "source": [
        "<a href=\"https://colab.research.google.com/github/neil-menghani/cricket_wc/blob/master/nlm2138_cricket.ipynb\" target=\"_parent\"><img src=\"https://colab.research.google.com/assets/colab-badge.svg\" alt=\"Open In Colab\"/></a>"
      ]
    },
    {
      "metadata": {
        "id": "NDPjKS9v5pkL",
        "colab_type": "text"
      },
      "cell_type": "markdown",
      "source": [
        "# Sports Economics Project\n",
        "### Neil Menghani"
      ]
    },
    {
      "metadata": {
        "id": "2vaYK-6F5rl3",
        "colab_type": "code",
        "outputId": "98856b8a-6882-4a68-b6ca-1c52f95916ec",
        "colab": {
          "base_uri": "https://localhost:8080/",
          "height": 71
        }
      },
      "cell_type": "code",
      "source": [
        "import numpy as np\n",
        "import pandas as pd\n",
        "import statsmodels.api as sm\n",
        "from sklearn.linear_model import LogisticRegression\n",
        "from sklearn.neighbors import KNeighborsClassifier\n",
        "from sklearn.ensemble import RandomForestClassifier\n",
        "from sklearn.naive_bayes import GaussianNB\n",
        "import scipy.stats as stat\n",
        "\n",
        "from datetime import date\n",
        "import random\n",
        "import operator\n",
        "\n",
        "KNN = False\n",
        "LOG = True\n",
        "RF = True\n",
        "PLAYERS_ONLY = False\n",
        "CHEMISTRY = False\n",
        "INCLUDE_PLAYERS = True\n",
        "pre_1996 = True"
      ],
      "execution_count": 0,
      "outputs": [
        {
          "output_type": "stream",
          "text": [
            "/usr/local/lib/python2.7/dist-packages/statsmodels/compat/pandas.py:56: FutureWarning: The pandas.core.datetools module is deprecated and will be removed in a future version. Please use the pandas.tseries module instead.\n",
            "  from pandas.core import datetools\n"
          ],
          "name": "stderr"
        }
      ]
    },
    {
      "metadata": {
        "id": "_4ghe08ma_E8",
        "colab_type": "text"
      },
      "cell_type": "markdown",
      "source": [
        "## Team Data Cleaning and Splitting"
      ]
    },
    {
      "metadata": {
        "id": "UpOOldm66IAe",
        "colab_type": "code",
        "colab": {}
      },
      "cell_type": "code",
      "source": [
        "# read data files\n",
        "matchups = pd.read_csv('matchups.csv')\n",
        "temp = pd.read_csv('temp.csv')\n",
        "historical = pd.read_csv('historical.csv')\n",
        "players = pd.read_csv('players.csv')\n",
        "\n",
        "matchups_copy = matchups.copy()"
      ],
      "execution_count": 0,
      "outputs": []
    },
    {
      "metadata": {
        "id": "Nto2EnWycSgG",
        "colab_type": "code",
        "outputId": "f48b51ad-9cc0-425f-f3aa-d9dcdbc68af7",
        "colab": {
          "base_uri": "https://localhost:8080/",
          "height": 629
        }
      },
      "cell_type": "code",
      "source": [
        "# print matchups_copy for debugging\n",
        "\n",
        "X = matchups_copy.drop(['result'], 1)\n",
        "y = matchups_copy['result']\n",
        "    \n",
        "print X.shape\n",
        "print len(y)\n",
        "\n",
        "print X[0:10]\n",
        "print y[0:10]"
      ],
      "execution_count": 0,
      "outputs": [
        {
          "output_type": "stream",
          "text": [
            "(439, 16)\n",
            "439\n",
            "      nation_a     nation_b  day month  year location  round  temp  home  \\\n",
            "0      england        india    7  june  1975  england      0   NaN   NaN   \n",
            "1  new_zealand  east_africa    7  june  1975  england      0   NaN   NaN   \n",
            "2      england  new_zealand   11  june  1975  england      0   NaN   NaN   \n",
            "3      england  east_africa   14  june  1975  england      0   NaN   NaN   \n",
            "4    australia     pakistan    7  june  1975  england      0   NaN   NaN   \n",
            "5    australia    sri_lanka   11  june  1975  england      0   NaN   NaN   \n",
            "6     pakistan    sri_lanka   14  june  1975  england      0   NaN   NaN   \n",
            "7    australia  west_indies   21  june  1975  england      2   NaN   NaN   \n",
            "8     pakistan    australia   14  june  1979  england      0   NaN   NaN   \n",
            "9      england     pakistan   16  june  1979  england      0   NaN   NaN   \n",
            "\n",
            "   appear  semi_finalist  runner_up  winner  prev  coach_exp  rest  \n",
            "0     NaN            NaN        NaN     NaN   NaN        NaN   NaN  \n",
            "1     NaN            NaN        NaN     NaN   NaN        NaN   NaN  \n",
            "2     NaN            NaN        NaN     NaN   NaN        NaN   NaN  \n",
            "3     NaN            NaN        NaN     NaN   NaN        NaN   NaN  \n",
            "4     NaN            NaN        NaN     NaN   NaN        NaN   NaN  \n",
            "5     NaN            NaN        NaN     NaN   NaN        NaN   NaN  \n",
            "6     NaN            NaN        NaN     NaN   NaN        NaN   NaN  \n",
            "7     NaN            NaN        NaN     NaN   NaN        NaN   NaN  \n",
            "8     NaN            NaN        NaN     NaN   NaN        NaN   NaN  \n",
            "9     NaN            NaN        NaN     NaN   NaN        NaN   NaN  \n",
            "0    0.0\n",
            "1    0.0\n",
            "2    0.0\n",
            "3    0.0\n",
            "4    0.0\n",
            "5    0.0\n",
            "6    0.0\n",
            "7    0.0\n",
            "8    0.0\n",
            "9    0.0\n",
            "Name: result, dtype: float64\n"
          ],
          "name": "stdout"
        }
      ]
    },
    {
      "metadata": {
        "id": "iVz0-csA66FB",
        "colab_type": "code",
        "outputId": "15c608af-6c71-4823-d9be-14a66e0498a2",
        "colab": {
          "base_uri": "https://localhost:8080/",
          "height": 2176
        }
      },
      "cell_type": "code",
      "source": [
        "# lists to assist with operations\n",
        "metrics = ['appear', 'semi_finalist', 'runner_up', 'winner', 'prev', 'coach_exp']\n",
        "months = ['january', 'february', 'march', 'april', 'may', 'june', 'july',\n",
        "          'august', 'september', 'october', 'november', 'december']\n",
        "\n",
        "# perform operations to fill in data\n",
        "for i in xrange(len(X)):\n",
        "    \n",
        "    # print i # for debugging\n",
        "    \n",
        "    nation_a = str(X['nation_a'][i])\n",
        "    nation_b = str(X['nation_b'][i])\n",
        "    \n",
        "    # weather\n",
        "    temps_host = temp[temp['nation'] == X['location'][i]]\n",
        "    temps_a = temp[temp['nation'] == nation_a]\n",
        "    temps_b = temp[temp['nation'] == nation_b]\n",
        "    temp_host = temps_host[X['month'][i]]\n",
        "    temp_a = abs(float(temps_a[X['month'][i]]) - float(temp_host))\n",
        "    temp_b = abs(float(temps_b[X['month'][i]]) - float(temp_host))\n",
        "    X.at[i, 'temp'] = temp_b - temp_a\n",
        "    \n",
        "    # home-field advantage\n",
        "    if nation_a == X['location'][i]:\n",
        "        X.at[i, 'home'] = -1\n",
        "    elif nation_b == X['location'][i]:\n",
        "        X.at[i, 'home'] = 1\n",
        "    else:\n",
        "        X.at[i, 'home'] = 0\n",
        "        \n",
        "    # historical success and coaching\n",
        "    h_a = historical[(historical['year'] == X['year'][i]) & \n",
        "                     (historical['nation'] == nation_a)]\n",
        "    h_b = historical[(historical['year'] == X['year'][i]) & \n",
        "                     (historical['nation'] == nation_b)]\n",
        "    for m in metrics:\n",
        "        X.at[i, m] = int(h_b[m]) - int(h_a[m])\n",
        "    \n",
        "    # rest\n",
        "    matchday = date(X['year'][i], months.index(X['month'][i]) + 1, X['day'][i])\n",
        "    try:\n",
        "        found_a = False\n",
        "        found_b = False\n",
        "        j = i-1\n",
        "        while not (found_a and found_b):\n",
        "            if X['year'][j] != X['year'][i]:\n",
        "                raise KeyError\n",
        "            \n",
        "            if not found_a and (X['nation_a'][j] == nation_a or X['nation_b'][j] == nation_a):\n",
        "                prev_a = date(X['year'][j], months.index(X['month'][j]) + 1, X['day'][j])\n",
        "                found_a = True\n",
        "            \n",
        "            if not found_b and (X['nation_a'][j] == nation_b or X['nation_b'][j] == nation_b):\n",
        "                prev_b = date(X['year'][j], months.index(X['month'][j]) + 1, X['day'][j])\n",
        "                found_b = True\n",
        "            \n",
        "            j -= 1\n",
        "        X.at[i, 'rest'] = (matchday - prev_b).days - (matchday - prev_a).days\n",
        "    except KeyError: # if first match for at least one team that year\n",
        "        X.at[i, 'rest'] = 0\n",
        "        \n",
        "X['home'] = X['home'].astype(int)\n",
        "for m in metrics:\n",
        "    X[m] = X[m].astype(int)\n",
        "X['rest'] = X['rest'].astype(int)\n",
        "\n",
        "print X"
      ],
      "execution_count": 0,
      "outputs": [
        {
          "output_type": "stream",
          "text": [
            "         nation_a      nation_b  day    month  year location  round  temp  \\\n",
            "0         england         india    7     june  1975  england      0  31.8   \n",
            "1     new_zealand   east_africa    7     june  1975  england      0 -10.3   \n",
            "2         england   new_zealand   11     june  1975  england      0  12.4   \n",
            "3         england   east_africa   14     june  1975  england      0   2.1   \n",
            "4       australia      pakistan    7     june  1975  england      0   9.0   \n",
            "5       australia     sri_lanka   11     june  1975  england      0   1.0   \n",
            "6        pakistan     sri_lanka   14     june  1975  england      0  -8.0   \n",
            "7       australia   west_indies   21     june  1975  england      2  -0.2   \n",
            "8        pakistan     australia   14     june  1979  england      0  -9.0   \n",
            "9         england      pakistan   16     june  1979  england      0  27.2   \n",
            "10      sri_lanka         india   18     june  1979  england      0  12.6   \n",
            "11    west_indies   new_zealand   16     june  1979  england      0  -5.6   \n",
            "12        england   new_zealand   20     june  1979  england      2  12.4   \n",
            "13    west_indies      pakistan   20     june  1979  england      2   9.2   \n",
            "14        england   new_zealand    9     june  1983  england      0  12.4   \n",
            "15       pakistan     sri_lanka    9     june  1983  england      0  -8.0   \n",
            "16        england     sri_lanka   11     june  1983  england      0  19.2   \n",
            "17    new_zealand      pakistan   11     june  1983  england      0  14.8   \n",
            "18       pakistan     sri_lanka   16     june  1983  england      0  -8.0   \n",
            "19       pakistan   new_zealand   20     june  1983  england      0 -14.8   \n",
            "20       zimbabwe     australia    9     june  1983  england      0  13.0   \n",
            "21          india   west_indies    9     june  1983  england      0 -13.8   \n",
            "22    west_indies     australia   11     june  1983  england      0   0.2   \n",
            "23      australia         india   13     june  1983  england      0  13.6   \n",
            "24    west_indies         india   15     june  1983  england      0  13.8   \n",
            "25      australia      zimbabwe   16     june  1983  england      0 -13.0   \n",
            "26          india      zimbabwe   18     june  1983  england      0 -26.6   \n",
            "27          india     australia   20     june  1983  england      0 -13.6   \n",
            "28          india   west_indies   25     june  1983  england      2 -13.8   \n",
            "29      australia         india    9  october  1987    india      0 -23.5   \n",
            "..            ...           ...  ...      ...   ...      ...    ...   ...   \n",
            "409    bangladesh     sri_lanka   11     june  2019  england      0  -2.7   \n",
            "410     australia      pakistan   12     june  2019  england      0   9.0   \n",
            "411         india   new_zealand   13     june  2019  england      0 -19.4   \n",
            "412       england   west_indies   14     june  2019  england      0  18.0   \n",
            "413     australia     sri_lanka   15     june  2019  england      0   1.0   \n",
            "414   afghanistan  south_africa   15     june  2019  england      0  -1.8   \n",
            "415         india      pakistan   16     june  2019  england      0  -4.6   \n",
            "416    bangladesh   west_indies   17     june  2019  england      0  -3.9   \n",
            "417       england   afghanistan   18     june  2019  england      0   7.4   \n",
            "418   new_zealand  south_africa   19     june  2019  england      0  -6.8   \n",
            "419     australia    bangladesh   20     june  2019  england      0   3.7   \n",
            "420       england     sri_lanka   21     june  2019  england      0  19.2   \n",
            "421   afghanistan         india   22     june  2019  england      0  24.4   \n",
            "422   new_zealand   west_indies   22     june  2019  england      0   5.6   \n",
            "423      pakistan  south_africa   23     june  2019  england      0 -21.6   \n",
            "424   afghanistan    bangladesh   24     june  2019  england      0  14.5   \n",
            "425       england     australia   25     june  2019  england      0  18.2   \n",
            "426   new_zealand      pakistan   26     june  2019  england      0  14.8   \n",
            "427         india   west_indies   27     june  2019  england      0 -13.8   \n",
            "428  south_africa     sri_lanka   28     june  2019  england      0  13.6   \n",
            "429   afghanistan      pakistan   29     june  2019  england      0  19.8   \n",
            "430     australia   new_zealand   29     june  2019  england      0  -5.8   \n",
            "431       england         india   30     june  2019  england      0  31.8   \n",
            "432     sri_lanka   west_indies    1     july  2019  england      0  -1.8   \n",
            "433    bangladesh         india    2     july  2019  england      0   4.5   \n",
            "434       england   new_zealand    3     july  2019  england      0  17.5   \n",
            "435   afghanistan   west_indies    4     july  2019  england      0   5.5   \n",
            "436    bangladesh      pakistan    5     july  2019  england      0   2.7   \n",
            "437         india     sri_lanka    6     july  2019  england      0  -6.9   \n",
            "438     australia  south_africa    6     july  2019  england      0 -13.1   \n",
            "\n",
            "     home  appear  semi_finalist  runner_up  winner  prev  coach_exp  rest  \n",
            "0      -1       0              0          0       0     0          0     0  \n",
            "1       0       0              0          0       0     0          0     0  \n",
            "2      -1       0              0          0       0     0          0     0  \n",
            "3      -1       0              0          0       0     0          0     4  \n",
            "4       0       0              0          0       0     0          0     0  \n",
            "5       0       0              0          0       0     0          0     0  \n",
            "6       0       0              0          0       0     0          0    -4  \n",
            "7       0       0              0          0       0     0          0     0  \n",
            "8       0       0              1          1       0     2          0     0  \n",
            "9      -1       0             -1          0       0    -1          0     0  \n",
            "10      0       0              0          0       0     0          0     0  \n",
            "11      0       0              0         -1      -1    -2          0     0  \n",
            "12     -1       0              0          0       0     0          0     0  \n",
            "13      0       0             -1         -1      -1    -3          0     0  \n",
            "14     -1       0              0         -1       0    -1          0     0  \n",
            "15      0       0             -1          0       0    -1          0     0  \n",
            "16     -1       0             -2         -1       0    -2          0     0  \n",
            "17      0       0             -1          0       0     0          0     0  \n",
            "18      0       0             -1          0       0    -1          0     0  \n",
            "19      0       0              1          0       0     0          0     5  \n",
            "20      0       2              1          1       0     1          0     0  \n",
            "21      0       0              2          2       2     3          0     0  \n",
            "22      0       0             -1         -1      -2    -3          0     0  \n",
            "23      0       0             -1         -1       0     0          0     2  \n",
            "24      0       0             -2         -2      -2    -3          0    -2  \n",
            "25      0      -2             -1         -1       0    -1          0     4  \n",
            "26      0      -2              0          0       0    -1          0    -1  \n",
            "27      0       0              1          1       0     0          0     2  \n",
            "28      0       0              2          2       2     3          0     5  \n",
            "29      1       0              0          0       1     3          0     0  \n",
            "..    ...     ...            ...        ...     ...   ...        ...   ...  \n",
            "409     0       6              4          3       1     0          4     1  \n",
            "410     0       0             -1         -5      -4    -3          1     2  \n",
            "411     0       0              1         -2      -2     1         -3     1  \n",
            "412    -1       0             -1          0       2     0          0    -2  \n",
            "413     0       0             -3         -4      -4    -3          4     1  \n",
            "414     0       6              4          0       0     1         -4    -2  \n",
            "415     0       0              0         -1      -1    -1         -2     1  \n",
            "416     0       6              4          3       2     0          1    -3  \n",
            "417    -1     -10             -5         -3       0     0          5    -1  \n",
            "418     0      -4             -3         -1       0    -1          2    -2  \n",
            "419     0      -6             -7         -7      -5    -3          0    -2  \n",
            "420    -1       0             -1          0       1     0          3     3  \n",
            "421     0      10              6          3       2     1         -3     2  \n",
            "422     0       0             -3          2       2    -2          1     2  \n",
            "423     0      -4             -2         -2      -1     1          1    -3  \n",
            "424     0       4              0          0       0     0         -6     2  \n",
            "425    -1       0              2          4       5     3         -1     1  \n",
            "426     0       0             -1          1       1    -2          1    -1  \n",
            "427     0       0             -2          0       0    -1         -2     0  \n",
            "428     0       4              0          3       1    -1          2     2  \n",
            "429     0      10              6          2       1     0         -5    -2  \n",
            "430     0       0              0         -6      -5    -1          0    -1  \n",
            "431    -1       0              1          0       2     1          2    -2  \n",
            "432     0       0              0          0       1     0         -3     1  \n",
            "433     0       6              6          3       2     1          3    -6  \n",
            "434    -1       0              2         -2       0     2         -1     1  \n",
            "435     0      10              4          3       2     0         -5    -2  \n",
            "436     0       6              6          2       1     0          1     3  \n",
            "437     0       0             -2          0      -1    -1          1     1  \n",
            "438     0      -4             -3         -7      -5    -2          2     1  \n",
            "\n",
            "[439 rows x 16 columns]\n"
          ],
          "name": "stdout"
        }
      ]
    },
    {
      "metadata": {
        "id": "f2r94xbJYdhf",
        "colab_type": "text"
      },
      "cell_type": "markdown",
      "source": [
        "## Player Data Cleaning"
      ]
    },
    {
      "metadata": {
        "id": "1A1ch9TzYfsW",
        "colab_type": "code",
        "outputId": "7d95a467-f9da-4ec3-b2b4-53664676203c",
        "colab": {
          "base_uri": "https://localhost:8080/",
          "height": 54
        }
      },
      "cell_type": "code",
      "source": [
        "add_cols = ['c_odi','wk_odi','squad_odi','c_wc','wk_wc','squad_wc',\n",
        "            'bat_avg_11','bat_avg_5','centuries',\n",
        "            'bowl_avg_11','bowl_avg_5','fives']\n",
        "chemistry = ['chem_2','chem_3','chem_4','chem_5','chem_6','chem_7','chem_8',\n",
        "             'chem_9','chem_10','chem_11']\n",
        "\n",
        "final_X = X.copy()\n",
        "if INCLUDE_PLAYERS:\n",
        "    for c in add_cols:\n",
        "        final_X[c] = np.nan\n",
        "    for c in chemistry:\n",
        "        final_X[c] = np.nan\n",
        "    \n",
        "print list(final_X)"
      ],
      "execution_count": 0,
      "outputs": [
        {
          "output_type": "stream",
          "text": [
            "['nation_a', 'nation_b', 'day', 'month', 'year', 'location', 'round', 'temp', 'home', 'appear', 'semi_finalist', 'runner_up', 'winner', 'prev', 'coach_exp', 'rest', 'c_odi', 'wk_odi', 'squad_odi', 'c_wc', 'wk_wc', 'squad_wc', 'bat_avg_11', 'bat_avg_5', 'centuries', 'bowl_avg_11', 'bowl_avg_5', 'fives', 'chem_2', 'chem_3', 'chem_4', 'chem_5', 'chem_6', 'chem_7', 'chem_8', 'chem_9', 'chem_10', 'chem_11']\n"
          ],
          "name": "stdout"
        }
      ]
    },
    {
      "metadata": {
        "id": "gMSDOCvkc8wQ",
        "colab_type": "code",
        "outputId": "9391c81b-c9e4-4520-ad98-8a2df25a697c",
        "colab": {
          "base_uri": "https://localhost:8080/",
          "height": 955
        }
      },
      "cell_type": "code",
      "source": [
        "if INCLUDE_PLAYERS:    \n",
        "    squad = historical[['year','nation']]\n",
        "    for c in add_cols:\n",
        "        squad[c] = np.nan\n",
        "    for c in chemistry:\n",
        "        squad[c] = 0\n",
        "\n",
        "\n",
        "    for i in xrange(len(squad)):\n",
        "        \n",
        "        # number of wcs and odis played\n",
        "        sq_players = players[(players['year'] == squad['year'][i]) &\n",
        "                         (players['nation'] == squad['nation'][i])]\n",
        "        sq_players['role'].fillna('', inplace=True)\n",
        "        sq_players['local_team'].fillna('', inplace=True)\n",
        "        \n",
        "        captains = sq_players[sq_players['role'].str.contains('c')]\n",
        "        wicketkeepers = sq_players[sq_players['role'].str.contains('wk')]\n",
        "        \n",
        "        cap_ids = [(row['player_id'], row['year']) for captain,row in captains.iterrows()]\n",
        "        wk_ids = [(row['player_id'], row['year']) for wicket,row in wicketkeepers.iterrows()]\n",
        "        sq_ids = [(row['player_id'], row['year']) for splay,row in sq_players.iterrows()]\n",
        "        \n",
        "        c_list = []\n",
        "        wk_list = []\n",
        "        sq_list = []\n",
        "        for cid in cap_ids:\n",
        "            cap_wc = players[(players['player_id'] == cid[0]) &\n",
        "                             (players['year'] < cid[1])]\n",
        "            c_list.append(len(cap_wc))\n",
        "        for wid in wk_ids:\n",
        "            wk_wc = players[(players['player_id'] == wid[0]) &\n",
        "                         (players['year'] < wid[1])]\n",
        "            wk_list.append(len(wk_wc))\n",
        "        for sid in sq_ids:\n",
        "            sq_wc = players[(players['player_id'] == sid[0]) &\n",
        "                         (players['year'] < sid[1])]\n",
        "            sq_list.append(len(wk_wc))\n",
        "        \n",
        "        squad.at[i, 'c_wc'] = np.mean(c_list)\n",
        "        squad.at[i, 'wk_wc'] = np.mean(wk_list)\n",
        "        squad.at[i, 'squad_wc'] = np.sum(sq_list) / len(sq_players)\n",
        "        \n",
        "        squad.at[i, 'c_odi'] = np.mean(list(captains['odis']))\n",
        "        squad.at[i, 'wk_odi'] = np.mean(list(wicketkeepers['odis']))\n",
        "        squad.at[i, 'squad_odi'] = np.sum(list(sq_players['odis'])) / len(sq_players)\n",
        "        \n",
        "        # chemistry\n",
        "        for j,r in sq_players.iterrows():\n",
        "            player_teams = str(r['local_team']).split(',')\n",
        "            chem_vals = []\n",
        "            for loc_team in player_teams:\n",
        "                if (loc_team != ''):\n",
        "                    chem_ind_val = len(sq_players[sq_players['local_team'].str.contains(loc_team)])\n",
        "                    chem_vals.append(chem_ind_val)\n",
        "            #print player_teams\n",
        "            if len(chem_vals) > 0:\n",
        "                chem_result = np.max(chem_vals) - 1\n",
        "            else:\n",
        "                chem_result = 0\n",
        "                \n",
        "            try:\n",
        "                for k in xrange(chem_result):\n",
        "                    squad.at[i, chemistry[k]] += 1\n",
        "            except IndexError:\n",
        "                pass\n",
        "            \n",
        "        # stats\n",
        "        bat_11 = sq_players.nlargest(11, 'bat_avg')['bat_avg']\n",
        "        bat_5 = sq_players.nlargest(5, 'bat_avg')['bat_avg']\n",
        "        bowl_11 = sq_players.nsmallest(11, 'bowl_avg')['bowl_avg']\n",
        "        bowl_5 = sq_players.nsmallest(5, 'bowl_avg')['bowl_avg']\n",
        "        \n",
        "        squad.at[i, 'bat_avg_11'] = np.mean(bat_11)\n",
        "        squad.at[i, 'bat_avg_5'] = np.mean(bat_5)\n",
        "        squad.at[i, 'bowl_avg_11'] = np.mean(bowl_11)\n",
        "        squad.at[i, 'bowl_avg_5'] = np.mean(bowl_5)\n",
        "        \n",
        "        squad.at[i, 'centuries'] = np.sum(sq_players['centuries'])\n",
        "        squad.at[i, 'fives'] = np.sum(sq_players['fives'])\n",
        "        \n",
        "    squad.fillna(0, inplace=True)\n",
        "        \n",
        "    print squad [0:10]\n",
        "    "
      ],
      "execution_count": 0,
      "outputs": [
        {
          "output_type": "stream",
          "text": [
            "/usr/local/lib/python2.7/dist-packages/ipykernel_launcher.py:4: SettingWithCopyWarning: \n",
            "A value is trying to be set on a copy of a slice from a DataFrame.\n",
            "Try using .loc[row_indexer,col_indexer] = value instead\n",
            "\n",
            "See the caveats in the documentation: http://pandas.pydata.org/pandas-docs/stable/indexing.html#indexing-view-versus-copy\n",
            "  after removing the cwd from sys.path.\n",
            "/usr/local/lib/python2.7/dist-packages/pandas/core/generic.py:4355: SettingWithCopyWarning: \n",
            "A value is trying to be set on a copy of a slice from a DataFrame\n",
            "\n",
            "See the caveats in the documentation: http://pandas.pydata.org/pandas-docs/stable/indexing.html#indexing-view-versus-copy\n",
            "  self._update_inplace(new_data)\n",
            "/usr/local/lib/python2.7/dist-packages/numpy/core/fromnumeric.py:2957: RuntimeWarning: Mean of empty slice.\n",
            "  out=out, **kwargs)\n",
            "/usr/local/lib/python2.7/dist-packages/numpy/core/_methods.py:80: RuntimeWarning: invalid value encountered in double_scalars\n",
            "  ret = ret.dtype.type(ret / rcount)\n",
            "/usr/local/lib/python2.7/dist-packages/ipykernel_launcher.py:42: RuntimeWarning: invalid value encountered in double_scalars\n",
            "/usr/local/lib/python2.7/dist-packages/ipykernel_launcher.py:46: RuntimeWarning: invalid value encountered in double_scalars\n"
          ],
          "name": "stderr"
        },
        {
          "output_type": "stream",
          "text": [
            "   year       nation  c_odi  wk_odi  squad_odi  c_wc  wk_wc  squad_wc  \\\n",
            "0  1975    australia    7.0     7.0   0.000000   0.0    0.0       0.0   \n",
            "1  1975  east_africa    0.0     0.0   0.000000   0.0    0.0       0.0   \n",
            "2  1975      england    7.0     5.5   6.846154   0.0    0.0       0.0   \n",
            "3  1975        india    1.0     0.0   0.000000   0.0    0.0       0.0   \n",
            "4  1975  new_zealand    3.0     5.0   0.000000   0.0    0.0       0.0   \n",
            "5  1975     pakistan    3.0     3.0   0.000000   0.0    0.0       0.0   \n",
            "6  1975    sri_lanka    0.0     0.0   0.000000   0.0    0.0       0.0   \n",
            "7  1975  west_indies    2.0     1.0   0.000000   0.0    0.0       0.0   \n",
            "8  1979    australia    4.0     0.0   0.000000   0.0    0.0       0.0   \n",
            "9  1979       canada    0.0     0.0   0.000000   0.0    0.0       0.0   \n",
            "\n",
            "   bat_avg_11  bat_avg_5   ...     chem_2  chem_3  chem_4  chem_5  chem_6  \\\n",
            "0   25.376667     36.678   ...         11      10       5       5       0   \n",
            "1    0.000000      0.000   ...          0       0       0       0       0   \n",
            "2   25.970909     34.982   ...         10       6       0       0       0   \n",
            "3   15.625000     23.700   ...          9       7       4       0       0   \n",
            "4   14.468750     19.450   ...         12       9       0       0       0   \n",
            "5   34.750000     47.200   ...         11       9       6       6       6   \n",
            "6    0.000000      0.000   ...         13       8       8       0       0   \n",
            "7   30.937500     46.100   ...         12       8       5       5       0   \n",
            "8   12.998889     20.866   ...         13      11       8       0       0   \n",
            "9    0.000000      0.000   ...          7       7       7       4       0   \n",
            "\n",
            "   chem_7  chem_8  chem_9  chem_10  chem_11  \n",
            "0       0       0       0        0        0  \n",
            "1       0       0       0        0        0  \n",
            "2       0       0       0        0        0  \n",
            "3       0       0       0        0        0  \n",
            "4       0       0       0        0        0  \n",
            "5       0       0       0        0        0  \n",
            "6       0       0       0        0        0  \n",
            "7       0       0       0        0        0  \n",
            "8       0       0       0        0        0  \n",
            "9       0       0       0        0        0  \n",
            "\n",
            "[10 rows x 24 columns]\n"
          ],
          "name": "stdout"
        }
      ]
    },
    {
      "metadata": {
        "id": "8sbwVL8f-sLV",
        "colab_type": "code",
        "outputId": "f6c10489-325b-49ab-b338-afdea081f8bd",
        "colab": {
          "base_uri": "https://localhost:8080/",
          "height": 54
        }
      },
      "cell_type": "code",
      "source": [
        "player_columns = add_cols + chemistry\n",
        "if INCLUDE_PLAYERS:\n",
        "    print list(final_X)\n",
        "    for i in xrange(len(final_X)):\n",
        "        for c in player_columns:\n",
        "            a_row = squad[(squad['nation'] == final_X['nation_a'][i]) &\n",
        "                          (squad['year'] == final_X['year'][i])]\n",
        "            a_value = float(a_row[c])\n",
        "            b_row = squad[(squad['nation'] == final_X['nation_b'][i]) &\n",
        "                          (squad['year'] == final_X['year'][i])]\n",
        "            b_value = float(b_row[c])\n",
        "            if c == 'bowl_avg_11' or c == 'bowl_avg_5':\n",
        "                value_to_insert = a_value - b_value\n",
        "            else:\n",
        "                value_to_insert = b_value - a_value\n",
        "            final_X.at[i, c] = value_to_insert\n",
        "    if not CHEMISTRY:\n",
        "        chemistry = ['chem_3','chem_4','chem_5','chem_6',\n",
        "                     'chem_7','chem_8','chem_9','chem_10','chem_11']\n",
        "        final_X = final_X.drop(chemistry, 1)\n",
        "final_X.to_csv('final_data')"
      ],
      "execution_count": 0,
      "outputs": [
        {
          "output_type": "stream",
          "text": [
            "['nation_a', 'nation_b', 'day', 'month', 'year', 'location', 'round', 'temp', 'home', 'appear', 'semi_finalist', 'runner_up', 'winner', 'prev', 'coach_exp', 'rest', 'c_odi', 'wk_odi', 'squad_odi', 'c_wc', 'wk_wc', 'squad_wc', 'bat_avg_11', 'bat_avg_5', 'centuries', 'bowl_avg_11', 'bowl_avg_5', 'fives', 'chem_2', 'chem_3', 'chem_4', 'chem_5', 'chem_6', 'chem_7', 'chem_8', 'chem_9', 'chem_10', 'chem_11']\n"
          ],
          "name": "stdout"
        }
      ]
    },
    {
      "metadata": {
        "id": "5aV-qBKqLMUd",
        "colab_type": "code",
        "colab": {}
      },
      "cell_type": "code",
      "source": [
        "#print final_X.to_string()\n",
        "#print y\n",
        "if PLAYERS_ONLY:\n",
        "    final_X = final_X[['nation_a', 'nation_b', 'day', 'month', 'year', 'location', \n",
        "                       'c_odi', 'wk_odi', 'squad_odi', 'bat_avg_11', 'bat_avg_5', \n",
        "                       'centuries', 'bowl_avg_11', 'bowl_avg_5', 'fives']]"
      ],
      "execution_count": 0,
      "outputs": []
    },
    {
      "metadata": {
        "id": "sqHQOkuSY5b7",
        "colab_type": "text"
      },
      "cell_type": "markdown",
      "source": [
        "## Train/Validation/Test Split"
      ]
    },
    {
      "metadata": {
        "id": "j-CqV3y6O5dd",
        "colab_type": "code",
        "outputId": "452d9a16-8d83-4fb2-ee9c-29ba0af95be3",
        "colab": {
          "base_uri": "https://localhost:8080/",
          "height": 102
        }
      },
      "cell_type": "code",
      "source": [
        "# separate 1996-2011 rows from 2015 test set and 2019 rows to predict on\n",
        "\n",
        "# whether to include pre-1996 WCs\n",
        "if pre_1996:\n",
        "    matchups_X = final_X[final_X['year'] < 2015]\n",
        "else:\n",
        "    matchups_X = final_X[(final_X['year'] > 1992) & (final_X['year'] < 2015)]\n",
        "matchups_y = [float(i) for i in y[0:len(matchups_X)]]\n",
        "\n",
        "test_X = final_X[final_X['year'] == 2015]\n",
        "test_y = [float(i) for i in y[len(matchups_X):len(matchups_X) + len(test_X)]] \n",
        "\n",
        "predict_X = final_X[final_X['year'] == 2019] # no y values in 2019\n",
        "\n",
        "print matchups_X.shape\n",
        "print len(matchups_y)\n",
        "print test_X.shape\n",
        "print len(test_y)\n",
        "print predict_X.shape"
      ],
      "execution_count": 0,
      "outputs": [
        {
          "output_type": "stream",
          "text": [
            "(346, 29)\n",
            "346\n",
            "(48, 29)\n",
            "48\n",
            "(45, 29)\n"
          ],
          "name": "stdout"
        }
      ]
    },
    {
      "metadata": {
        "id": "6DKEQgBLRZTs",
        "colab_type": "code",
        "outputId": "4c0f8213-eb45-4574-aaa9-80fdac537f41",
        "colab": {
          "base_uri": "https://localhost:8080/",
          "height": 221
        }
      },
      "cell_type": "code",
      "source": [
        "# shuffle order of rows to alleviate bias between years\n",
        "random.seed(716)\n",
        "p = np.random.permutation(len(matchups_X))\n",
        "data_X = matchups_X.iloc[p].reset_index(drop=True)\n",
        "data_y = [matchups_y[i] for i in p]\n",
        "\n",
        "print data_X[['nation_a', 'nation_b', 'day', 'month', 'year']][0:10]\n",
        "print data_y[0:10]"
      ],
      "execution_count": 0,
      "outputs": [
        {
          "output_type": "stream",
          "text": [
            "      nation_a     nation_b  day     month  year\n",
            "0    sri_lanka      england   30   october  1987\n",
            "1     pakistan     zimbabwe   27  february  1992\n",
            "2    sri_lanka      bermuda   15     march  2007\n",
            "3   bangladesh  new_zealand    2     april  2007\n",
            "4    australia     zimbabwe    9      june  1999\n",
            "5      ireland    sri_lanka   18     april  2007\n",
            "6      england    australia    8     april  2007\n",
            "7  west_indies  new_zealand   16      june  1979\n",
            "8    sri_lanka    australia   16     april  2007\n",
            "9      ireland    australia   13     april  2007\n",
            "[1.0, 0.0, 0.0, 0.0, 0.0, 1.0, 1.0, 0.0, 1.0, 1.0]\n"
          ],
          "name": "stdout"
        }
      ]
    },
    {
      "metadata": {
        "id": "quFbBpEWR59y",
        "colab_type": "code",
        "outputId": "2060615d-90e8-4daf-9051-f5ca1496f80c",
        "colab": {
          "base_uri": "https://localhost:8080/",
          "height": 34
        }
      },
      "cell_type": "code",
      "source": [
        "# split train and val (test set is 2015 WC)\n",
        "\n",
        "val_split = 0.8\n",
        "val_len = int(0.8 * len(matchups_X))\n",
        "\n",
        "train_X = data_X[0:val_len].drop(['nation_a', 'nation_b', 'day', \n",
        "                                   'month', 'year', 'location'], 1)\n",
        "train_y = [int(v) for v in data_y[0:val_len]]\n",
        "val_X = data_X[val_len:].drop(['nation_a', 'nation_b', 'day', \n",
        "                                 'month', 'year', 'location'], 1)\n",
        "val_y = [int(v) for v in data_y[val_len:]]\n",
        "\n",
        "\n",
        "# prepare test and prediction sets\n",
        "\n",
        "test_matchups = test_X[['nation_a', 'nation_b', 'day', \n",
        "                        'month', 'year', 'location']]\n",
        "test_X = test_X.drop(['nation_a', 'nation_b', 'day', \n",
        "                      'month', 'year', 'location'], 1)\n",
        "test_y = [int(v) for v in test_y]\n",
        "predict_matchups = predict_X[['nation_a', 'nation_b', 'day', \n",
        "                        'month', 'year', 'location']]\n",
        "predict_X = predict_X.drop(['nation_a', 'nation_b', 'day', \n",
        "                      'month', 'year', 'location'], 1)\n",
        "\n",
        "print len(train_X), len(train_y), len(val_X), len(val_y)"
      ],
      "execution_count": 0,
      "outputs": [
        {
          "output_type": "stream",
          "text": [
            "276 276 70 70\n"
          ],
          "name": "stdout"
        }
      ]
    },
    {
      "metadata": {
        "id": "XWDfoVuJsFFQ",
        "colab_type": "code",
        "outputId": "d6c2fb22-460a-41ce-9f3a-874ce0478e6c",
        "colab": {
          "base_uri": "https://localhost:8080/",
          "height": 54
        }
      },
      "cell_type": "code",
      "source": [
        "\"\"\"\n",
        "# uncomment to output cleaned data\n",
        "train_y_df = pd.Series(train_y)\n",
        "train_X_df = train_X.reset_index(drop=True)\n",
        "train_X_df['result'] = train_y_df\n",
        "train_X_df.to_csv('train_X.csv')\n",
        "\n",
        "val_y_df = pd.Series(val_y)\n",
        "val_X_df = val_X.reset_index(drop=True)\n",
        "val_X_df['result'] = val_y_df\n",
        "val_X_df.to_csv('val_X.csv')\n",
        "\n",
        "test_y_df = pd.Series(test_y)\n",
        "test_X_df = test_X.reset_index(drop=True)\n",
        "test_X_df['result'] = test_y_df\n",
        "test_X_df.to_csv('test_X.csv')\n",
        "\"\"\""
      ],
      "execution_count": 0,
      "outputs": [
        {
          "output_type": "execute_result",
          "data": {
            "text/plain": [
              "\"\\n# uncomment to output cleaned data\\ntrain_y_df = pd.Series(train_y)\\ntrain_X_df = train_X.reset_index(drop=True)\\ntrain_X_df['result'] = train_y_df\\ntrain_X_df.to_csv('train_X.csv')\\n\\nval_y_df = pd.Series(val_y)\\nval_X_df = val_X.reset_index(drop=True)\\nval_X_df['result'] = val_y_df\\nval_X_df.to_csv('val_X.csv')\\n\\ntest_y_df = pd.Series(test_y)\\ntest_X_df = test_X.reset_index(drop=True)\\ntest_X_df['result'] = test_y_df\\ntest_X_df.to_csv('test_X.csv')\\n\""
            ]
          },
          "metadata": {
            "tags": []
          },
          "execution_count": 12
        }
      ]
    },
    {
      "metadata": {
        "id": "Sajy0RDFPLHe",
        "colab_type": "text"
      },
      "cell_type": "markdown",
      "source": [
        "## Building the Model"
      ]
    },
    {
      "metadata": {
        "id": "wau5POui0hKy",
        "colab_type": "code",
        "colab": {}
      },
      "cell_type": "code",
      "source": [
        "# function to evaluate accuracy of predictions\n",
        "def check_acc(a, b):\n",
        "    correct = 0.0\n",
        "    for i in xrange(len(a)):\n",
        "        if a[i] == b[i]:\n",
        "            correct += 1\n",
        "    return correct / len(a)"
      ],
      "execution_count": 0,
      "outputs": []
    },
    {
      "metadata": {
        "colab_type": "code",
        "id": "I7SaiPW8SRiz",
        "colab": {}
      },
      "cell_type": "code",
      "source": [
        "if KNN == True:\n",
        "    # K Nearest Neighbors\n",
        "\n",
        "    neigh = KNeighborsClassifier(n_neighbors=3)\n",
        "    neigh.fit(train_X, train_y)\n",
        "    train_pred_y = neigh.predict(train_X)\n",
        "    val_pred_y = neigh.predict(val_X)\n",
        "\n",
        "    print check_acc(train_pred_y, train_y)\n",
        "    print check_acc(val_pred_y, val_y)\n"
      ],
      "execution_count": 0,
      "outputs": []
    },
    {
      "metadata": {
        "id": "_eOZLZpXS4rs",
        "colab_type": "code",
        "outputId": "b540c40b-b78d-40aa-b20a-533a1fb04950",
        "colab": {
          "base_uri": "https://localhost:8080/",
          "height": 513
        }
      },
      "cell_type": "code",
      "source": [
        "if LOG == True:\n",
        "    # Logistic Regression\n",
        "    \n",
        "    from sklearn import linear_model\n",
        "    import numpy as np\n",
        "    import scipy.stats as stat\n",
        "\n",
        "    clf = LogisticRegression(random_state=0, solver='lbfgs', multi_class='multinomial')\n",
        "    clf.fit(train_X, train_y)\n",
        "    train_pred_y = clf.predict(train_X)\n",
        "    val_pred_y = clf.predict(val_X)\n",
        "    val_pred_prob = clf.predict_proba(val_X)\n",
        "\n",
        "    print check_acc(train_pred_y, train_y)\n",
        "    print check_acc(val_pred_y, val_y)\n",
        "\n",
        "    print data_X[['nation_a', 'nation_b', 'day', 'month', 'year']][val_len:][0:10]\n",
        "    print clf.classes_\n",
        "    print val_pred_prob[0:10]\n",
        "    print val_pred_y[0:10]\n",
        "    print val_y[0:10]\n"
      ],
      "execution_count": 0,
      "outputs": [
        {
          "output_type": "stream",
          "text": [
            "0.804347826087\n",
            "0.628571428571\n",
            "         nation_a     nation_b  day     month  year\n",
            "276  south_africa     pakistan    8     march  1992\n",
            "277  south_africa  new_zealand   16  february  2003\n",
            "278     australia     zimbabwe   16      june  1983\n",
            "279     australia      england    8  november  1987\n",
            "280      pakistan      england   13      june  1983\n",
            "281   netherlands      namibia    3     march  2003\n",
            "282     australia        india    4      june  1999\n",
            "283      pakistan    australia   23       may  1999\n",
            "284   new_zealand     pakistan   18     march  1992\n",
            "285         india     zimbabwe   18      june  1983\n",
            "[0 1]\n",
            "[[0.13421616 0.86578384]\n",
            " [0.86686656 0.13313344]\n",
            " [0.87026583 0.12973417]\n",
            " [0.6866038  0.3133962 ]\n",
            " [0.57659315 0.42340685]\n",
            " [0.44068505 0.55931495]\n",
            " [0.25965391 0.74034609]\n",
            " [0.8359446  0.1640554 ]\n",
            " [0.38650383 0.61349617]\n",
            " [0.91410184 0.08589816]]\n",
            "[1 0 0 0 0 1 1 0 1 0]\n",
            "[0, 1, 0, 0, 0, 0, 0, 0, 1, 0]\n"
          ],
          "name": "stdout"
        },
        {
          "output_type": "stream",
          "text": [
            "/usr/local/lib/python2.7/dist-packages/sklearn/linear_model/logistic.py:758: ConvergenceWarning: lbfgs failed to converge. Increase the number of iterations.\n",
            "  \"of iterations.\", ConvergenceWarning)\n"
          ],
          "name": "stderr"
        }
      ]
    },
    {
      "metadata": {
        "id": "1P6d8OuV3vDY",
        "colab_type": "code",
        "outputId": "1634b92a-7de1-4829-d0a7-180dbbd611ec",
        "colab": {
          "base_uri": "https://localhost:8080/",
          "height": 564
        }
      },
      "cell_type": "code",
      "source": [
        "if RF == True:\n",
        "    # Random Forest\n",
        "\n",
        "    rf = RandomForestClassifier(n_estimators=20, max_depth=10).fit(train_X, train_y)\n",
        "    importances = rf.feature_importances_\n",
        "    train_pred_y = rf.predict(train_X)\n",
        "    val_pred_y = rf.predict(val_X)\n",
        "    val_pred_prob = rf.predict_proba(val_X)\n",
        "\n",
        "    print check_acc(train_pred_y, train_y)\n",
        "    print check_acc(val_pred_y, val_y)\n",
        "\n",
        "    print data_X[['nation_a', 'nation_b', 'day', 'month', 'year']][val_len:][0:10]\n",
        "    print rf.classes_\n",
        "    print val_pred_prob[0:10]\n",
        "    print val_pred_y[0:10]\n",
        "    print val_y[0:10]\n",
        "    \n",
        "    print list(train_X)\n",
        "    print importances"
      ],
      "execution_count": 0,
      "outputs": [
        {
          "output_type": "stream",
          "text": [
            "0.996376811594\n",
            "0.685714285714\n",
            "         nation_a     nation_b  day     month  year\n",
            "276  south_africa     pakistan    8     march  1992\n",
            "277  south_africa  new_zealand   16  february  2003\n",
            "278     australia     zimbabwe   16      june  1983\n",
            "279     australia      england    8  november  1987\n",
            "280      pakistan      england   13      june  1983\n",
            "281   netherlands      namibia    3     march  2003\n",
            "282     australia        india    4      june  1999\n",
            "283      pakistan    australia   23       may  1999\n",
            "284   new_zealand     pakistan   18     march  1992\n",
            "285         india     zimbabwe   18      june  1983\n",
            "[0 1]\n",
            "[[0.05084746 0.94915254]\n",
            " [0.8        0.2       ]\n",
            " [0.99166667 0.00833333]\n",
            " [0.73129464 0.26870536]\n",
            " [0.98441964 0.01558036]\n",
            " [1.         0.        ]\n",
            " [0.59553571 0.40446429]\n",
            " [0.3        0.7       ]\n",
            " [0.15       0.85      ]\n",
            " [0.95       0.05      ]]\n",
            "[1 0 0 0 0 0 0 1 1 0]\n",
            "[0, 1, 0, 0, 0, 0, 0, 0, 1, 0]\n",
            "['round', 'temp', 'home', 'appear', 'semi_finalist', 'runner_up', 'winner', 'prev', 'coach_exp', 'rest', 'c_odi', 'wk_odi', 'squad_odi', 'c_wc', 'wk_wc', 'squad_wc', 'bat_avg_11', 'bat_avg_5', 'centuries', 'bowl_avg_11', 'bowl_avg_5', 'fives', 'chem_2']\n",
            "[0.00525546 0.06730837 0.01198313 0.05302049 0.04940807 0.02248644\n",
            " 0.02108553 0.02065719 0.01616038 0.03530527 0.07780985 0.05382602\n",
            " 0.05191146 0.08201342 0.01284752 0.01453556 0.06860697 0.06820573\n",
            " 0.09126851 0.03805091 0.04885013 0.04849944 0.04090414]\n"
          ],
          "name": "stdout"
        }
      ]
    },
    {
      "metadata": {
        "id": "05QAynaxPNae",
        "colab_type": "text"
      },
      "cell_type": "markdown",
      "source": [
        "## Demo"
      ]
    },
    {
      "metadata": {
        "id": "PVwKGgYNADCE",
        "colab_type": "code",
        "outputId": "a4681a22-8cb7-42ea-dac2-1340498e668a",
        "colab": {
          "base_uri": "https://localhost:8080/",
          "height": 258
        }
      },
      "cell_type": "code",
      "source": [
        "test_pred_y = rf.predict(test_X)\n",
        "test_pred_prob = rf.predict_proba(test_X)\n",
        "predict_pred_prob = rf.predict_proba(predict_X)\n",
        "\n",
        "print check_acc(test_pred_y, test_y)\n",
        "\n",
        "print test_matchups[0:3], test_pred_prob[0:3]\n",
        "print predict_matchups[0:3], predict_pred_prob[0:3]"
      ],
      "execution_count": 0,
      "outputs": [
        {
          "output_type": "stream",
          "text": [
            "0.458333333333\n",
            "        nation_a     nation_b  day     month  year     location\n",
            "187  new_zealand    sri_lanka   14  february  2015  new_zealand\n",
            "188    australia      england   14  february  2015    australia\n",
            "189   bangladesh  afghanistan   18  february  2015    australia [[0.4        0.6       ]\n",
            " [0.89357143 0.10642857]\n",
            " [0.57258523 0.42741477]]\n",
            "        nation_a      nation_b  day month  year location\n",
            "394      england  south_africa   30   may  2019  england\n",
            "395     pakistan   west_indies   31   may  2019  england\n",
            "396  new_zealand     sri_lanka    1  june  2019  england [[0.69553571 0.30446429]\n",
            " [0.95       0.05      ]\n",
            " [0.8102381  0.1897619 ]]\n"
          ],
          "name": "stdout"
        }
      ]
    },
    {
      "metadata": {
        "id": "TVtqXRjqFpZD",
        "colab_type": "code",
        "outputId": "b79b24dc-3d80-418d-a45f-d07de0c6c75e",
        "colab": {
          "base_uri": "https://localhost:8080/",
          "height": 71
        }
      },
      "cell_type": "code",
      "source": [
        "# perform simulations for 2015 and 2019\n",
        "random.seed(1997)\n",
        "\n",
        "teams_15 = ['afghanistan', 'australia', 'bangladesh', 'england', \n",
        "            'south_africa', 'india', 'ireland', 'new_zealand',\n",
        "            'pakistan', 'scotland', 'sri_lanka','uae',\n",
        "            'west_indies','zimbabwe']\n",
        "standings_15 = {}\n",
        "records_15 = {}\n",
        "teams_19 = ['afghanistan', 'australia', 'bangladesh', 'england', \n",
        "            'south_africa', 'india', 'new_zealand',\n",
        "            'pakistan', 'sri_lanka', 'west_indies']\n",
        "standings_19 = {}\n",
        "records_19 = {}\n",
        "\n",
        "for i15 in teams_15:\n",
        "    standings_15[i15] = 0\n",
        "    records_15[i15] = [0, 0, 0]\n",
        "for i19 in teams_19:\n",
        "    standings_19[i19] = 0\n",
        "    records_19[i19] = [0, 0, 0]\n",
        "    \n",
        "test_matchups = test_matchups.reset_index(drop=True)\n",
        "predict_matchups = predict_matchups.reset_index(drop=True)\n",
        "\n",
        "for sim in xrange(10000):\n",
        "    stand = standings_15.copy()\n",
        "    for i in xrange(len(test_matchups)):\n",
        "        gen = random.uniform(0,1)\n",
        "        if gen > test_pred_prob[i][0]:\n",
        "            # b won match\n",
        "            stand[test_matchups['nation_b'][i]] += 3\n",
        "        else:\n",
        "            # a won match\n",
        "            stand[test_matchups['nation_a'][i]] += 3\n",
        "    sort_stand = sorted(stand.items(), key=operator.itemgetter(1))\n",
        "    for j in [0, 1, 2]:\n",
        "        records_15[sort_stand[-1][0]][j] += 1\n",
        "    for k in (0, 1):\n",
        "        records_15[sort_stand[-2][0]][k] += 1\n",
        "    records_15[sort_stand[-3][0]][0] += 1\n",
        "    records_15[sort_stand[-4][0]][0] += 1\n",
        "    #print sort_stand\n",
        "    \n",
        "for sim in xrange(10000):\n",
        "    stand = standings_19.copy()\n",
        "    for i in xrange(len(predict_matchups)):\n",
        "        gen = random.uniform(0,1)\n",
        "        if gen > predict_pred_prob[i][0]:\n",
        "            # b won match\n",
        "            stand[predict_matchups['nation_b'][i]] += 3\n",
        "        else:\n",
        "            # a won match\n",
        "            stand[predict_matchups['nation_a'][i]] += 3\n",
        "    sort_stand = sorted(stand.items(), key=operator.itemgetter(1))\n",
        "    for j in [0, 1, 2]:\n",
        "        records_19[sort_stand[-1][0]][j] += 1\n",
        "    for k in (0, 1):\n",
        "        records_19[sort_stand[-2][0]][k] += 1\n",
        "    records_19[sort_stand[-3][0]][0] += 1\n",
        "    records_19[sort_stand[-4][0]][0] += 1\n",
        "    #print sort_stand\n",
        "    \n",
        "print records_15\n",
        "print records_19"
      ],
      "execution_count": 0,
      "outputs": [
        {
          "output_type": "stream",
          "text": [
            "{'afghanistan': [8, 0, 0], 'australia': [6473, 3533, 1831], 'england': [185, 26, 1], 'bangladesh': [467, 59, 16], 'pakistan': [4157, 1526, 557], 'south_africa': [5986, 2559, 1049], 'scotland': [24, 2, 0], 'new_zealand': [6447, 3808, 2212], 'india': [7488, 4733, 2722], 'zimbabwe': [354, 52, 6], 'ireland': [165, 25, 5], 'west_indies': [2223, 707, 242], 'sri_lanka': [5883, 2956, 1356], 'uae': [140, 14, 3]}\n",
            "{'afghanistan': [191, 19, 4], 'australia': [2978, 606, 148], 'england': [8027, 4470, 1527], 'bangladesh': [1766, 351, 57], 'pakistan': [2855, 559, 74], 'south_africa': [4783, 1196, 187], 'new_zealand': [7587, 3373, 697], 'india': [9873, 9110, 7246], 'west_indies': [577, 70, 12], 'sri_lanka': [1363, 246, 48]}\n"
          ],
          "name": "stdout"
        }
      ]
    },
    {
      "metadata": {
        "id": "zUI4-hqaSop7",
        "colab_type": "code",
        "colab": {}
      },
      "cell_type": "code",
      "source": [
        ""
      ],
      "execution_count": 0,
      "outputs": []
    }
  ]
}